{
 "cells": [
  {
   "cell_type": "markdown",
   "source": [
    "# Training a Neural Network on Scikit's Make Circles\r\n",
    "\"Make circles\" is a popular dataset to test whether machine learning models are able to properly fit non-linear data. Although XOR is the simplest dataset to verify this with, make circles allows for validation testing and for visualizing predictions."
   ],
   "metadata": {}
  },
  {
   "cell_type": "markdown",
   "source": [
    "## 1. The Dataset\r\n",
    "Let's get a better look at what make_circles is. According to make_circle's documentation:\r\n",
    "\r\n",
    "_Makes a large circle containing a smaller circle in 2d._"
   ],
   "metadata": {}
  },
  {
   "cell_type": "code",
   "execution_count": 98,
   "source": [
    "# Import dataset and other necessary modules\r\n",
    "import numpy as np\r\n",
    "\r\n",
    "from sklearn.datasets import make_circles\r\n",
    "from ml_functions.plots import display_data\r\n",
    "\r\n",
    "# Generate Dataset\r\n",
    "X, y = make_circles(n_samples=200, noise=0.1, random_state=1)"
   ],
   "outputs": [],
   "metadata": {}
  },
  {
   "cell_type": "markdown",
   "source": [
    "`make_circles()` has a few important parameters that are worth taking note of:\r\n",
    "\r\n",
    "  * n_samples - The _total_ number of points. I set it here to 200, that way both the inner and the outer circle each have 100 points.\r\n",
    "  * noise - Defines the stanard deviation of gaussian noise for the data. 0.1 allows for some amount of noise, while maintaining the general circular shape.\r\n",
    "  * random_state - This serves as a seed, and it used so that results are reproducible.\r\n",
    "\r\n",
    "Let's plot the data. I have made a function `display_data()` that will automatically plot 2D data like this."
   ],
   "metadata": {}
  },
  {
   "cell_type": "code",
   "execution_count": 99,
   "source": [
    "# Plot dataset\r\n",
    "display_data(X,y)"
   ],
   "outputs": [
    {
     "output_type": "display_data",
     "data": {
      "image/png": "[encoded data removed]",
      "text/plain": [
       "<Figure size 432x288 with 1 Axes>"
      ]
     },
     "metadata": {
      "needs_background": "light"
     }
    }
   ],
   "metadata": {}
  },
  {
   "cell_type": "markdown",
   "source": [
    "As you can see, there is a clear outer and inner circle. Thus, it is expected for the model to be able to learn this relationship.\r\n",
    "\r\n",
    "Now, let's create the training and test sets."
   ],
   "metadata": {}
  },
  {
   "cell_type": "code",
   "execution_count": 100,
   "source": [
    "# Creates a training/test split of 150/50\r\n",
    "training_count = 150\r\n",
    "X_train, X_test = X[:training_count, :], X[training_count:, :]\r\n",
    "y_train, y_test = y[:training_count], y[training_count:]\r\n",
    "\r\n",
    "print('Training input (X_train) shape: {}'.format(X_train.shape))\r\n",
    "print('Training output (y_train) shape: {}\\n'.format(y_train.shape))\r\n",
    "\r\n",
    "print('Testing input (X_test) shape: {}'.format(X_test.shape))\r\n",
    "print('Testing output (y_test) shape: {}'.format(y_test.shape))\r\n"
   ],
   "outputs": [
    {
     "output_type": "stream",
     "name": "stdout",
     "text": [
      "Training input (X_train) shape: (150, 2)\n",
      "Training output (y_train) shape: (150,)\n",
      "\n",
      "Testing input (X_test) shape: (50, 2)\n",
      "Testing output (y_test) shape: (50,)\n"
     ]
    }
   ],
   "metadata": {}
  },
  {
   "cell_type": "markdown",
   "source": [
    "Doing such a training/test split would normally be unacceptable (non-random, most likely non-optimal ratio). As this is a toy scenario, it is safe to ignore this issue and move on."
   ],
   "metadata": {}
  },
  {
   "cell_type": "markdown",
   "source": [
    "## 2. Neural Network\r\n",
    "We can create a neural network model and train it on the dataset."
   ],
   "metadata": {}
  },
  {
   "cell_type": "code",
   "execution_count": 101,
   "source": [
    "# Neural Network Imports\r\n",
    "from neural_network.layers.activation_layer import ActivationLayer\r\n",
    "from neural_network.layers.dense_layer import DenseLayer\r\n",
    "\r\n",
    "from neural_network.network import NeuralNetwork\r\n",
    "\r\n",
    "# Create network\r\n",
    "network = NeuralNetwork([\r\n",
    "    DenseLayer(2, 256),\r\n",
    "    ActivationLayer('relu'),\r\n",
    "    DenseLayer(256, 1),\r\n",
    "    ActivationLayer('sigmoid')\r\n",
    "])"
   ],
   "outputs": [],
   "metadata": {}
  },
  {
   "cell_type": "markdown",
   "source": [
    "The architecture is a 3 layer, fully-connected, deep neural network that has the following layer structure:\r\n",
    "* input size of 2 ((x,y) coordinates)\r\n",
    "* fully-connected layer with 256 neurons and has ReLU activation\r\n",
    "* fully-connected output layer with 1 neuron and sigmoid activation\r\n",
    "\r\n",
    "Following the sigmoid activation, if `output > 0.5`, then the network will choose class 1. Otherwise, it will choose class 0."
   ],
   "metadata": {}
  },
  {
   "cell_type": "code",
   "execution_count": 102,
   "source": [
    "# Fits the model. Verbose is turned off as epochs is at 3000\r\n",
    "history = network.fit(X_train, y_train, validation_data=(X_test, y_test), epochs=3000, lr=0.001, verbose=False)"
   ],
   "outputs": [],
   "metadata": {}
  },
  {
   "cell_type": "markdown",
   "source": [
    "## 3. Model Accuracy and Visualization\r\n",
    "Now that the model is trained, we can see what its accuracies on the training and testing sets are."
   ],
   "metadata": {}
  },
  {
   "cell_type": "code",
   "execution_count": 112,
   "source": [
    "from ml_functions.helper_functions import coerce_1d_array"
   ],
   "outputs": [
    {
     "output_type": "error",
     "ename": "ImportError",
     "evalue": "cannot import name 'coerce_1d_arrray' from 'ml_functions.helper_functions' (c:\\Users\\thatv\\Desktop\\Files\\projects\\ML-Algorithms\\src\\ml_functions\\helper_functions.py)",
     "traceback": [
      "\u001b[1;31m---------------------------------------------------------------------------\u001b[0m",
      "\u001b[1;31mImportError\u001b[0m                               Traceback (most recent call last)",
      "\u001b[1;32m<ipython-input-112-320e0bbb95d2>\u001b[0m in \u001b[0;36m<module>\u001b[1;34m\u001b[0m\n\u001b[1;32m----> 1\u001b[1;33m \u001b[1;32mfrom\u001b[0m \u001b[0mml_functions\u001b[0m\u001b[1;33m.\u001b[0m\u001b[0mhelper_functions\u001b[0m \u001b[1;32mimport\u001b[0m \u001b[0mcoerce_1d_arrray\u001b[0m\u001b[1;33m\u001b[0m\u001b[1;33m\u001b[0m\u001b[0m\n\u001b[0m",
      "\u001b[1;31mImportError\u001b[0m: cannot import name 'coerce_1d_arrray' from 'ml_functions.helper_functions' (c:\\Users\\thatv\\Desktop\\Files\\projects\\ML-Algorithms\\src\\ml_functions\\helper_functions.py)"
     ]
    }
   ],
   "metadata": {}
  },
  {
   "cell_type": "code",
   "execution_count": 109,
   "source": [
    "# Gets training and testing accuracy\r\n",
    "train_acc = network.evaluate(X_train, y_train)\r\n",
    "test_acc = network.evaluate(X_test, y_test)\r\n",
    "\r\n",
    "print(network.predict(X_train))\r\n",
    "\r\n",
    "print(coerce_1d_array(y_test, axis=0))\r\n",
    "\r\n",
    "print('Training accuracy: {0:.5f}\\nTesting accuracy: {1:.5f}'.format(train_acc, test_acc))"
   ],
   "outputs": [
    {
     "output_type": "stream",
     "name": "stdout",
     "text": [
      "[[0.0272269 ]\n",
      " [0.01349975]\n",
      " [0.07387446]\n",
      " [0.97973959]\n",
      " [0.98270944]\n",
      " [0.82450835]\n",
      " [0.37823489]\n",
      " [0.00127288]\n",
      " [0.14107814]\n",
      " [0.95038549]\n",
      " [0.77836987]\n",
      " [0.08287192]\n",
      " [0.21295444]\n",
      " [0.13086651]\n",
      " [0.9289895 ]\n",
      " [0.95058875]\n",
      " [0.89005233]\n",
      " [0.11478138]\n",
      " [0.57699121]\n",
      " [0.64965919]\n",
      " [0.12561186]\n",
      " [0.12861009]\n",
      " [0.0743582 ]\n",
      " [0.01554029]\n",
      " [0.32108221]\n",
      " [0.86495103]\n",
      " [0.8422444 ]\n",
      " [0.30024462]\n",
      " [0.95476658]\n",
      " [0.24914091]\n",
      " [0.02976057]\n",
      " [0.92915376]\n",
      " [0.91301486]\n",
      " [0.98208514]\n",
      " [0.87714647]\n",
      " [0.07080413]\n",
      " [0.91725614]\n",
      " [0.64998963]\n",
      " [0.15675604]\n",
      " [0.9781746 ]\n",
      " [0.88267422]\n",
      " [0.96498577]\n",
      " [0.16823437]\n",
      " [0.06110665]\n",
      " [0.11575617]\n",
      " [0.00911072]\n",
      " [0.92829051]\n",
      " [0.28977482]\n",
      " [0.9495226 ]\n",
      " [0.87129365]\n",
      " [0.01392256]\n",
      " [0.98692809]\n",
      " [0.99820416]\n",
      " [0.22659638]\n",
      " [0.24535351]\n",
      " [0.97749825]\n",
      " [0.8058384 ]\n",
      " [0.85181949]\n",
      " [0.89457022]\n",
      " [0.741293  ]\n",
      " [0.55670339]\n",
      " [0.44437913]\n",
      " [0.78145506]\n",
      " [0.01771892]\n",
      " [0.70015219]\n",
      " [0.29605546]\n",
      " [0.97938139]\n",
      " [0.76709319]\n",
      " [0.01097254]\n",
      " [0.00112804]\n",
      " [0.06882681]\n",
      " [0.05355709]\n",
      " [0.9543944 ]\n",
      " [0.83416299]\n",
      " [0.95450226]\n",
      " [0.98460617]\n",
      " [0.02084489]\n",
      " [0.92258686]\n",
      " [0.05173176]\n",
      " [0.97166366]\n",
      " [0.99385537]\n",
      " [0.53513918]\n",
      " [0.42777717]\n",
      " [0.79221173]\n",
      " [0.58102479]\n",
      " [0.00218141]\n",
      " [0.08958675]\n",
      " [0.48394995]\n",
      " [0.46142188]\n",
      " [0.57057639]\n",
      " [0.01169559]\n",
      " [0.15143394]\n",
      " [0.99939586]\n",
      " [0.80222103]\n",
      " [0.98720646]\n",
      " [0.46311143]\n",
      " [0.82598743]\n",
      " [0.87060662]\n",
      " [0.84956601]\n",
      " [0.71214216]\n",
      " [0.10258237]\n",
      " [0.3377547 ]\n",
      " [0.54047871]\n",
      " [0.9431862 ]\n",
      " [0.22000405]\n",
      " [0.61511273]\n",
      " [0.10810349]\n",
      " [0.76149855]\n",
      " [0.25745953]\n",
      " [0.97492306]\n",
      " [0.02018752]\n",
      " [0.99411261]\n",
      " [0.02920593]\n",
      " [0.10016722]\n",
      " [0.01483585]\n",
      " [0.45311287]\n",
      " [0.72721478]\n",
      " [0.40794196]\n",
      " [0.02621213]\n",
      " [0.24496147]\n",
      " [0.09753684]\n",
      " [0.03133058]\n",
      " [0.93678063]\n",
      " [0.728793  ]\n",
      " [0.93781704]\n",
      " [0.14019272]\n",
      " [0.84648103]\n",
      " [0.68759581]\n",
      " [0.78008296]\n",
      " [0.34074376]\n",
      " [0.3749251 ]\n",
      " [0.00462146]\n",
      " [0.8262766 ]\n",
      " [0.99771443]\n",
      " [0.727866  ]\n",
      " [0.00779164]\n",
      " [0.68656286]\n",
      " [0.09828663]\n",
      " [0.10027174]\n",
      " [0.91882544]\n",
      " [0.67846425]\n",
      " [0.86128845]\n",
      " [0.9911234 ]\n",
      " [0.61468753]\n",
      " [0.10210726]\n",
      " [0.14602321]\n",
      " [0.37871464]\n",
      " [0.6377427 ]\n",
      " [0.91390456]\n",
      " [0.00181749]]\n"
     ]
    },
    {
     "output_type": "error",
     "ename": "ImportError",
     "evalue": "cannot import name 'coerce_1d_array' from 'ml_functions.helper_functions' (c:\\Users\\thatv\\Desktop\\Files\\projects\\ML-Algorithms\\src\\ml_functions\\helper_functions.py)",
     "traceback": [
      "\u001b[1;31m---------------------------------------------------------------------------\u001b[0m",
      "\u001b[1;31mImportError\u001b[0m                               Traceback (most recent call last)",
      "\u001b[1;32m<ipython-input-109-5103072c7e76>\u001b[0m in \u001b[0;36m<module>\u001b[1;34m\u001b[0m\n\u001b[0;32m      5\u001b[0m \u001b[0mprint\u001b[0m\u001b[1;33m(\u001b[0m\u001b[0mnetwork\u001b[0m\u001b[1;33m.\u001b[0m\u001b[0mpredict\u001b[0m\u001b[1;33m(\u001b[0m\u001b[0mX_train\u001b[0m\u001b[1;33m)\u001b[0m\u001b[1;33m)\u001b[0m\u001b[1;33m\u001b[0m\u001b[1;33m\u001b[0m\u001b[0m\n\u001b[0;32m      6\u001b[0m \u001b[1;33m\u001b[0m\u001b[0m\n\u001b[1;32m----> 7\u001b[1;33m \u001b[1;32mfrom\u001b[0m \u001b[0mml_functions\u001b[0m\u001b[1;33m.\u001b[0m\u001b[0mhelper_functions\u001b[0m \u001b[1;32mimport\u001b[0m \u001b[0mcoerce_1d_array\u001b[0m\u001b[1;33m\u001b[0m\u001b[1;33m\u001b[0m\u001b[0m\n\u001b[0m\u001b[0;32m      8\u001b[0m \u001b[0mprint\u001b[0m\u001b[1;33m(\u001b[0m\u001b[0mcoerce_1d_array\u001b[0m\u001b[1;33m(\u001b[0m\u001b[0my_test\u001b[0m\u001b[1;33m,\u001b[0m \u001b[0maxis\u001b[0m\u001b[1;33m=\u001b[0m\u001b[1;36m0\u001b[0m\u001b[1;33m)\u001b[0m\u001b[1;33m)\u001b[0m\u001b[1;33m\u001b[0m\u001b[1;33m\u001b[0m\u001b[0m\n\u001b[0;32m      9\u001b[0m \u001b[1;33m\u001b[0m\u001b[0m\n",
      "\u001b[1;31mImportError\u001b[0m: cannot import name 'coerce_1d_array' from 'ml_functions.helper_functions' (c:\\Users\\thatv\\Desktop\\Files\\projects\\ML-Algorithms\\src\\ml_functions\\helper_functions.py)"
     ]
    }
   ],
   "metadata": {}
  },
  {
   "cell_type": "markdown",
   "source": [
    "As you can see, the model has overfitted on the data. This can be mitigated, but shows that the network is learning on the data, which is the main goal of this notebook.\r\n",
    "\r\n",
    "Here is the training history visualized."
   ],
   "metadata": {}
  },
  {
   "cell_type": "code",
   "execution_count": 104,
   "source": [
    "import matplotlib.pyplot as plt\r\n",
    "\r\n",
    "# Plot the history\r\n",
    "plt.plot(history['binary_accuracy'], label='training data')\r\n",
    "plt.plot(history['val_binary_accuracy'], label='testing data')\r\n",
    "plt.legend()\r\n",
    "plt.show()"
   ],
   "outputs": [
    {
     "output_type": "display_data",
     "data": {
      "image/png": "[encoded data removed]",
      "text/plain": [
       "<Figure size 432x288 with 1 Axes>"
      ]
     },
     "metadata": {
      "needs_background": "light"
     }
    }
   ],
   "metadata": {}
  },
  {
   "cell_type": "markdown",
   "source": [
    "Finally, we can show that the network was able to make a generalization of the data with a heatmap."
   ],
   "metadata": {}
  },
  {
   "cell_type": "code",
   "execution_count": 105,
   "source": [
    "# Import heatmap visualization\r\n",
    "from ml_functions.plots import display_prediction_heatmap\r\n",
    "\r\n",
    "# Creates a heatmap in the 2D box [-1,-1] to [1,1]. An accuracy of 100 gives a good resolution\r\n",
    "# without spending too much computation time\r\n",
    "display_prediction_heatmap(network, -1, 1, -1, 1, acc=100)"
   ],
   "outputs": [
    {
     "output_type": "display_data",
     "data": {
      "image/png": "[encoded data removed]",
      "text/plain": [
       "<Figure size 432x288 with 2 Axes>"
      ]
     },
     "metadata": {
      "needs_background": "light"
     }
    }
   ],
   "metadata": {}
  },
  {
   "cell_type": "code",
   "execution_count": 106,
   "source": [
    "prediction = network.predict(X_test)\r\n",
    "# Coerces 1D array into 2D array for compatibility\r\n",
    "yt = y_test\r\n",
    "if len(yt.shape) == 1:\r\n",
    "    yt = y_test.reshape(-1,1)\r\n",
    "# Returns the calculated metric score\r\n",
    "a = network.metric(prediction, yt)\r\n",
    "\r\n",
    "print(a)\r\n",
    "\r\n",
    "print(network.evaluate(X_test,y_test))"
   ],
   "outputs": [
    {
     "output_type": "stream",
     "name": "stdout",
     "text": [
      "0.86\n",
      "25.16\n"
     ]
    }
   ],
   "metadata": {}
  }
 ],
 "metadata": {
  "orig_nbformat": 4,
  "language_info": {
   "name": "python",
   "version": "3.8.1",
   "mimetype": "text/x-python",
   "codemirror_mode": {
    "name": "ipython",
    "version": 3
   },
   "pygments_lexer": "ipython3",
   "nbconvert_exporter": "python",
   "file_extension": ".py"
  },
  "kernelspec": {
   "name": "python3",
   "display_name": "Python 3.8.1 64-bit"
  },
  "interpreter": {
   "hash": "82fdbad23d1d7218fe061e4c560b85ec5032b2830716faa690995c31c64b0a4d"
  }
 },
 "nbformat": 4,
 "nbformat_minor": 2
}